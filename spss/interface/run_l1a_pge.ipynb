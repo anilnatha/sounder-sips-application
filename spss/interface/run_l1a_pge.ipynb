{
 "cells": [
  {
   "cell_type": "markdown",
   "id": "2011d82c",
   "metadata": {},
   "source": [
    "# Sounder SIPS L1A PGE Interface"
   ]
  },
  {
   "cell_type": "code",
   "execution_count": null,
   "id": "11b70ec9",
   "metadata": {},
   "outputs": [],
   "source": [
    "import os, sys, shutil\n",
    "import re\n",
    "from glob import glob\n",
    "import logging\n",
    "import subprocess\n",
    "from pprint import pformat"
   ]
  },
  {
   "cell_type": "code",
   "execution_count": null,
   "id": "e4ab1c33",
   "metadata": {},
   "outputs": [],
   "source": [
    "from xml.etree import ElementTree\n",
    "from xml.etree.ElementTree import Element, tostring\n",
    "from xml.dom import minidom"
   ]
  },
  {
   "cell_type": "markdown",
   "id": "0f1c1c7e",
   "metadata": {},
   "source": [
    "## Execution Parameters"
   ]
  },
  {
   "cell_type": "code",
   "execution_count": null,
   "id": "110ac55b",
   "metadata": {
    "tags": [
     "parameters"
    ]
   },
   "outputs": [],
   "source": [
    "# Location of input L0 files\n",
    "input_path = \"/pge/in\"\n",
    "\n",
    "# Where PGE output files and log files get written\n",
    "output_path = \"/pge/out\"\n",
    "\n",
    "# Location of dem and mcf static files\n",
    "data_static_path = \"/tmp/static\"\n",
    "\n",
    "# Enable verbose logging\n",
    "verbose = True\n",
    "\n",
    "# Start/end time strings\n",
    "start_datetime = \"2016-01-14T09:54:00.000Z\"\n",
    "end_datetime = \"2016-01-14T11:54:00:000Z\""
   ]
  },
  {
   "cell_type": "markdown",
   "id": "e80baccd",
   "metadata": {},
   "source": [
    "## Constants"
   ]
  },
  {
   "cell_type": "code",
   "execution_count": null,
   "id": "5df6c714",
   "metadata": {},
   "outputs": [],
   "source": [
    "# Where PGE static config files\n",
    "config_static_path = \"/pge/static\"\n",
    "\n",
    "# Source XML file to be modified with execution parameters\n",
    "config_template_filename = \"/pge/static/pge_config_template.xml\"\n",
    "\n",
    "# Where config file gets written\n",
    "config_output_filename = os.path.join(output_path, \"l1a_config.xml\")\n",
    "\n",
    "# Name of output log filename\n",
    "log_filename = os.path.join(output_path, \"L1AMw_main.log\")\n",
    "\n",
    "# Location of PGE executable\n",
    "pge_executable = \"/pge/bin/L1AMw_main\"\n",
    "\n",
    "# Location of MetExtractor executable\n",
    "met_extractor_executable = \"/pge/bin/MetExtractor\""
   ]
  },
  {
   "cell_type": "markdown",
   "id": "d70984e5",
   "metadata": {},
   "source": [
    "## Set up Logging"
   ]
  },
  {
   "cell_type": "code",
   "execution_count": null,
   "id": "0e728ccb",
   "metadata": {},
   "outputs": [],
   "source": [
    "if verbose:\n",
    "    logging.basicConfig(level=logging.DEBUG)\n",
    "else:\n",
    "    logging.basicConfig(level=logging.INFO)\n",
    "    \n",
    "logger = logging.getLogger(\"PGE Wrapper\")"
   ]
  },
  {
   "cell_type": "markdown",
   "id": "36c52636",
   "metadata": {},
   "source": [
    "## Output Path Creation"
   ]
  },
  {
   "cell_type": "code",
   "execution_count": null,
   "id": "aa33436b",
   "metadata": {},
   "outputs": [],
   "source": [
    "# Make sure the output directory exists\n",
    "if not os.path.exists(output_path):\n",
    "    logging.info(f\"Creating missing output directory: {output_path}\")\n",
    "    os.makedirs(output_path)"
   ]
  },
  {
   "cell_type": "markdown",
   "id": "228910ea",
   "metadata": {},
   "source": [
    "## Set Up Static Data "
   ]
  },
  {
   "cell_type": "code",
   "execution_count": null,
   "id": "14c369d9",
   "metadata": {},
   "outputs": [],
   "source": [
    "# Create symbolic links to expected location of static files\n",
    "\n",
    "dem_src_path = os.path.join(data_static_path, \"dem\")\n",
    "mcf_src_path = os.path.join(data_static_path, \"mcf\")\n",
    "\n",
    "for path in (dem_src_path, mcf_src_path):\n",
    "    if not os.path.exists(path):\n",
    "        raise Exception(f\"Source static data path not found: {path}\")\n",
    "\n",
    "dem_dst_path = \"/tmp/static/dem\"\n",
    "mcf_dst_path = \"/tmp/static/mcf\"\n",
    "\n",
    "for src_path, dst_path in [(dem_src_path, dem_dst_path), (mcf_src_path, mcf_dst_path)]:\n",
    "    # Only error if the destination path exists and is not the same as the source\n",
    "    if os.path.exists(dst_path) and not os.path.realpath(src_path) == os.path.realpath(dst_path):\n",
    "        raise Exception(f\"Destination static data path already exists: {dst_path}\")\n",
    "        \n",
    "    # Destination path could exist if it is the same as the source path\n",
    "    if not os.path.exists(dst_path):\n",
    "        # Create containing directory if it does not exist, for instance if it is a temp directory\n",
    "        dst_base = os.path.dirname(dst_path)\n",
    "        if not os.path.exists(dst_base):\n",
    "            os.makedirs(dst_base)\n",
    "        \n",
    "        logger.info(f\"Creating symbolic link to static data: {src_path} -> {dst_path}\")\n",
    "        os.symlink(src_path, dst_path)"
   ]
  },
  {
   "cell_type": "markdown",
   "id": "6bbfd4ff",
   "metadata": {},
   "source": [
    "## Sort Input Files"
   ]
  },
  {
   "cell_type": "code",
   "execution_count": null,
   "id": "0a3442ff",
   "metadata": {},
   "outputs": [],
   "source": [
    "def extract_l0_file_info(filename):\n",
    "    match = re.match(\"P(\\d{3})(\\d{4})([A-Z]{13})T(\\d{12})(\\d{2}).PDS\", os.path.basename(filename))\n",
    "    \n",
    "    if not match:\n",
    "        raise Exception(f\"Could not parse L0 filename: {filename}\")\n",
    "\n",
    "    return {\n",
    "        'scid': match.group(1),\n",
    "        'apid': match.group(2),\n",
    "        'product_name': match.group(3),\n",
    "        'creation_time': match.group(4),\n",
    "        'numeric_id': match.group(5),\n",
    "    }"
   ]
  },
  {
   "cell_type": "code",
   "execution_count": null,
   "id": "e1609be1",
   "metadata": {},
   "outputs": [],
   "source": [
    "# Find input files recursively\n",
    "input_filenames = glob(os.path.join(input_path, \"**\", \"*.PDS\"), recursive=True)\n",
    "\n",
    "# Filter filenames by product type\n",
    "files_by_product = {}\n",
    "for fn in input_filenames:\n",
    "    file_info = extract_l0_file_info(fn)\n",
    "    \n",
    "    product_files = files_by_product[file_info['product_name']] = files_by_product.get(file_info['product_name'], [])\n",
    "    product_files.append(fn)"
   ]
  },
  {
   "cell_type": "code",
   "execution_count": null,
   "id": "7eb9b412",
   "metadata": {},
   "outputs": [],
   "source": [
    "# Cut the list of files in half where half goes to previous and half to current files\n",
    "for prod_name in files_by_product.keys():\n",
    "    prod_file_list = sorted(files_by_product[prod_name])\n",
    "    num_files = len(prod_file_list)\n",
    "    \n",
    "    prev_files = prod_file_list[:num_files//2]\n",
    "    curr_files = prod_file_list[num_files//2:]\n",
    "    \n",
    "    files_by_product[prod_name] = {\n",
    "        'prev': prev_files,\n",
    "        'curr': curr_files,\n",
    "    }\n",
    "    \n",
    "logger.debug(\"Sorted input files:\\n\" + pformat(files_by_product))"
   ]
  },
  {
   "cell_type": "markdown",
   "id": "c4604737",
   "metadata": {},
   "source": [
    "## Create XML Configuration"
   ]
  },
  {
   "cell_type": "code",
   "execution_count": null,
   "id": "8e90aeeb",
   "metadata": {},
   "outputs": [],
   "source": [
    "# Parse configuration XML\n",
    "config_root = ElementTree.parse(config_template_filename).getroot()"
   ]
  },
  {
   "cell_type": "code",
   "execution_count": null,
   "id": "3a71adc6",
   "metadata": {},
   "outputs": [],
   "source": [
    "# Maps file product types to the config elements\n",
    "prod_type_to_vector = {\n",
    "    \"AAAAAAAAAAAAA\": \"SNPP_EphAtt\",\n",
    "    \"ATMSSCIENCEAA\": \"ATMS_SCIENCE\",\n",
    "}"
   ]
  },
  {
   "cell_type": "code",
   "execution_count": null,
   "id": "fc97fbde",
   "metadata": {},
   "outputs": [],
   "source": [
    "# Modify input filenames\n",
    "inp_file_elem = config_root.find(\"./group[@name='InputProductFiles']\")\n",
    "\n",
    "if inp_file_elem is None:\n",
    "    raise Exception(f\"Could not find InputProductFiles group in XML config template: {config_template_filename}\")\n",
    "\n",
    "# For each product type and occurance type (prev/next) assign filenames to relevent vectors\n",
    "for prod_name in files_by_product.keys():\n",
    "    for occurance_type, occurance_filenames in files_by_product[prod_name].items():\n",
    "        prod_elem_name = prod_type_to_vector[prod_name]\n",
    "        \n",
    "        vector_elem = inp_file_elem.find(f\"./vector[@name='{occurance_type}_{prod_elem_name}']\")\n",
    "\n",
    "        for fn_elem, inp_filename in zip(vector_elem, occurance_filenames):\n",
    "            fn_elem.text = inp_filename"
   ]
  },
  {
   "cell_type": "code",
   "execution_count": null,
   "id": "848544a5",
   "metadata": {},
   "outputs": [],
   "source": [
    "# Modify path for output filenames\n",
    "out_file_elem = config_root.find(\"./group[@name='OutputProductFiles']/vector\")\n",
    "\n",
    "if out_file_elem is None:\n",
    "    raise Exception(f\"Could not find OutputProductFiles group in XML config template: {config_template_filename}\")\n",
    "    \n",
    "output_filenames = []\n",
    "for fn_elem in out_file_elem:\n",
    "    fn_elem.text = os.path.join(output_path, os.path.basename(fn_elem.text))\n",
    "    output_filenames.append(fn_elem.text)"
   ]
  },
  {
   "cell_type": "code",
   "execution_count": null,
   "id": "6f91d3bc",
   "metadata": {},
   "outputs": [],
   "source": [
    "# Modify SFIF filename path\n",
    "sfif_elem = config_root.find(\"./group[@name='StaticFileIdentificationFiles']/scalar\")\n",
    "sfif_elem.text = os.path.join(config_static_path, os.path.basename(sfif_elem.text))"
   ]
  },
  {
   "cell_type": "code",
   "execution_count": null,
   "id": "0dd7129f",
   "metadata": {},
   "outputs": [],
   "source": [
    "# Modify MonitorPath\n",
    "mon_path_elem = config_root.find(\".//scalar[@name='MonitorPath']\")\n",
    "mon_path_elem.text = output_path"
   ]
  },
  {
   "cell_type": "code",
   "execution_count": null,
   "id": "02c27358",
   "metadata": {},
   "outputs": [],
   "source": [
    "# Modify start/end time\n",
    "start_dt_elem = config_root.find(\"./group[@name='GranuleIdentification']/scalar[@name='StartDateTime']\")\n",
    "start_dt_elem.text = start_datetime\n",
    "\n",
    "end_dt_elem = config_root.find(\"./group[@name='GranuleIdentification']/scalar[@name='EndDateTime']\")\n",
    "end_dt_elem.text = end_datetime"
   ]
  },
  {
   "cell_type": "code",
   "execution_count": null,
   "id": "95fb3706",
   "metadata": {},
   "outputs": [],
   "source": [
    "schema_fn = config_root.attrib['{http://www.w3.org/2001/XMLSchema-instance}noNamespaceSchemaLocation']\n",
    "\n",
    "config_root.attrib['{http://www.w3.org/2001/XMLSchema-instance}noNamespaceSchemaLocation'] = \\\n",
    "    os.path.join(config_static_path, os.path.basename(schema_fn))"
   ]
  },
  {
   "cell_type": "code",
   "execution_count": null,
   "id": "951b2cd5",
   "metadata": {},
   "outputs": [],
   "source": [
    "# Write created config\n",
    "logger.info(f\"Writing config file: {config_output_filename}\")\n",
    "\n",
    "with open(config_output_filename, mode = 'w', encoding = 'utf-8') as output:\n",
    "    rough = tostring(config_root, 'utf-8')\n",
    "    reparsed = minidom.parseString(rough)\n",
    "    pretty_xml = reparsed.toprettyxml(indent='  ', newl='')\n",
    "    output.write(pretty_xml)"
   ]
  },
  {
   "cell_type": "markdown",
   "id": "ebea5fa1",
   "metadata": {},
   "source": [
    "## Create L1A Template Files"
   ]
  },
  {
   "cell_type": "code",
   "execution_count": null,
   "id": "01a3b372",
   "metadata": {},
   "outputs": [],
   "source": [
    "# Open SFIF file to locate template L1A filename\n",
    "sfif_root = ElementTree.parse(sfif_elem.text).getroot()"
   ]
  },
  {
   "cell_type": "code",
   "execution_count": null,
   "id": "71ec667a",
   "metadata": {},
   "outputs": [],
   "source": [
    "tmpl_elem = sfif_root.find(\"./group[@name='StaticAuxiliaryInputFiles']/scalar[@name='L1aMwTemplate']\")\n",
    "l1a_template_fn = tmpl_elem.text\n",
    "\n",
    "for out_fn in output_filenames:\n",
    "    logger.info(f\"Creating template L1A output file: {out_fn}\")\n",
    "    shutil.copyfile(l1a_template_fn, out_fn)"
   ]
  },
  {
   "cell_type": "markdown",
   "id": "fbd9e7ed",
   "metadata": {},
   "source": [
    "## Run L1AMw_main PGE executable"
   ]
  },
  {
   "cell_type": "code",
   "execution_count": null,
   "id": "0236092d",
   "metadata": {},
   "outputs": [],
   "source": [
    "# Run L1AMw_main PGE executable\n",
    "\n",
    "# Change to out path so that any PGS temporary files are written there\n",
    "os.chdir(output_path)\n",
    "\n",
    "l1a_cmd = pge_executable + ' ' + config_output_filename + ' ' + log_filename\n",
    "\n",
    "logger.info(f\"Running PGE executable: {l1a_cmd}\")\n",
    "\n",
    "l1a_status = subprocess.run(l1a_cmd, shell=True)\n",
    "\n",
    "if (l1a_status.returncode != 0):\n",
    "    raise Exception(f\"Execution of PGE resulting in non zero exit status: {l1a_status}, check log file for details: {log_filename}\")"
   ]
  },
  {
   "cell_type": "markdown",
   "id": "75ecfd7d",
   "metadata": {},
   "source": [
    "## Run Met Extractor"
   ]
  },
  {
   "cell_type": "code",
   "execution_count": null,
   "id": "b6385ecb",
   "metadata": {},
   "outputs": [],
   "source": [
    "# Extract from the SFIF file the path to \n",
    "met_const_elem = sfif_root.find(\"./group[@name='OutputProductConfiguration']//scalar[@name='MetFileConstants']\")\n",
    "met_const_filename = met_const_elem.text\n",
    "\n",
    "met_mapping_elem = sfif_root.find(\"./group[@name='OutputProductConfiguration']//scalar[@name='MetFileMappings']\")\n",
    "met_mapping_filename = met_mapping_elem.text"
   ]
  },
  {
   "cell_type": "code",
   "execution_count": null,
   "id": "b66e30a6",
   "metadata": {},
   "outputs": [],
   "source": [
    "# Write pev file for to capture config parameters to Product metadata\n",
    "\n",
    "pev_filename = os.path.join(output_path, 'spdc.pev')\n",
    "omit_list = ['ProductionDateTime', 'ProductionLocation', 'ProductionLocationCode', 'CollectionLabel', 'NodeInfo']\n",
    "group_path_list = ['JobIdentification', 'SCFIdentification']"
   ]
  },
  {
   "cell_type": "code",
   "execution_count": null,
   "id": "72d2535d",
   "metadata": {},
   "outputs": [],
   "source": [
    "def extract_config_group_to_pev(config_root, group_path, pev_file, omit_list):\n",
    "    \n",
    "    scalar_fields = config_root.findall(f\".//group[@name='{group_path}']/scalar\")\n",
    "    \n",
    "    for field in scalar_fields:\n",
    "        name = field.attrib['name']\n",
    "        value = field.text\n",
    "        \n",
    "        if name not in omit_list:\n",
    "            pev_file.write(f\"{name}={value}\\n\")"
   ]
  },
  {
   "cell_type": "code",
   "execution_count": null,
   "id": "7767631c",
   "metadata": {},
   "outputs": [],
   "source": [
    "with open(pev_filename,'w') as pev_file:\n",
    "    for group_path in group_path_list:\n",
    "        extract_config_group_to_pev(config_root, group_path, pev_file, omit_list)\n",
    "    pev_file.close()"
   ]
  },
  {
   "cell_type": "code",
   "execution_count": null,
   "id": "d4ca066d",
   "metadata": {},
   "outputs": [],
   "source": [
    "for out_file in output_filenames:\n",
    "\n",
    "    # make sure to write abspath into met file\n",
    "    met_cmd = met_extractor_executable + ' -Ddata.file.reader.hdf5.data.types.map.file=' + met_mapping_filename + \\\n",
    "        ' --dataFile -file ' + os.path.abspath(out_file) + ' -reader SipsNcHDF5FileReader ' + \\\n",
    "        ' --metFile -toFile ' + out_file + '.cas -writer XmlCasWriter ' + \\\n",
    "        ' --supportFile -file ' + met_const_filename + ' -reader PropEqValFileReader ' + \\\n",
    "        ' --supportFile -file ' + pev_filename + ' -reader PropEqValFileReader -Ddebug=true'\n",
    "\n",
    "    met_status = subprocess.run(met_cmd, shell=True)\n",
    "    if (met_status.returncode != 0):\n",
    "        raise Exception(f\"Error executing MetExtractor command: {met_cmd}\")"
   ]
  }
 ],
 "metadata": {
  "kernelspec": {
   "display_name": "Python 3",
   "language": "python",
   "name": "python3"
  },
  "language_info": {
   "codemirror_mode": {
    "name": "ipython",
    "version": 3
   },
   "file_extension": ".py",
   "mimetype": "text/x-python",
   "name": "python",
   "nbconvert_exporter": "python",
   "pygments_lexer": "ipython3",
   "version": "3.6.8"
  }
 },
 "nbformat": 4,
 "nbformat_minor": 5
}
