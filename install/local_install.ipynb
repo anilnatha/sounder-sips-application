{
 "cells": [
  {
   "cell_type": "code",
   "execution_count": null,
   "id": "7684717c-85a6-49f8-a05b-402e711aa0d6",
   "metadata": {},
   "outputs": [],
   "source": [
    "import os"
   ]
  },
  {
   "cell_type": "code",
   "execution_count": null,
   "id": "066a7c96-a62d-46db-96a0-ffde7f1c064b",
   "metadata": {},
   "outputs": [],
   "source": [
    "source_path = os.path.join(os.path.expanduser(\"~\"), \"SIPS_SPSS-v02.56.00\")\n",
    "install_path = \"/tmp/pge\""
   ]
  },
  {
   "cell_type": "code",
   "execution_count": null,
   "id": "970e511c-3322-47c8-9fc4-a105d2c13fa7",
   "metadata": {},
   "outputs": [],
   "source": [
    "l1a_path = os.path.join(install_path, \"l1a\")\n",
    "l1b_path = os.path.join(install_path, \"l1b\")"
   ]
  },
  {
   "cell_type": "code",
   "execution_count": null,
   "id": "5393d4db-1e86-481b-9f18-04ebf2177fca",
   "metadata": {},
   "outputs": [],
   "source": [
    "l1a_binary_path = os.path.join(l1a_path, \"bin\")\n",
    "l1a_config_path = os.path.join(l1a_path, \"config\")"
   ]
  },
  {
   "cell_type": "code",
   "execution_count": null,
   "id": "985c48e4-d058-4e6d-976a-4b3aa1d64b16",
   "metadata": {},
   "outputs": [],
   "source": [
    "l1b_binary_path = os.path.join(l1b_path, \"bin\")\n",
    "l1b_config_path = os.path.join(l1b_path, \"config\")"
   ]
  },
  {
   "cell_type": "code",
   "execution_count": null,
   "id": "874f3d44-5a51-45fd-ae06-4150dc985fb7",
   "metadata": {},
   "outputs": [],
   "source": [
    "!./patch_source.sh $source_path"
   ]
  },
  {
   "cell_type": "code",
   "execution_count": null,
   "id": "1afe09dc-d993-4a43-81e2-7f634132f52c",
   "metadata": {
    "tags": []
   },
   "outputs": [],
   "source": [
    "!./build_common.sh $source_path"
   ]
  },
  {
   "cell_type": "code",
   "execution_count": null,
   "id": "91a4c18f-1c8e-4bf6-97f6-e50e4f8507a3",
   "metadata": {
    "tags": []
   },
   "outputs": [],
   "source": [
    "!./build_l1a.sh $source_path $l1a_binary_path"
   ]
  },
  {
   "cell_type": "code",
   "execution_count": null,
   "id": "e46db16c-a02c-4f0c-bbf1-7fdcef9162a2",
   "metadata": {
    "tags": []
   },
   "outputs": [],
   "source": [
    "!./build_l1b.sh $source_path $l1b_binary_path"
   ]
  },
  {
   "cell_type": "code",
   "execution_count": null,
   "id": "7a9d7c5b-4c16-4597-9093-87367c7e3675",
   "metadata": {
    "tags": []
   },
   "outputs": [],
   "source": [
    "!./create_l1a_static_config.sh $source_path $l1a_config_path"
   ]
  },
  {
   "cell_type": "code",
   "execution_count": null,
   "id": "5900da57-90b8-4282-8bf9-93f7ea3c68c3",
   "metadata": {
    "tags": []
   },
   "outputs": [],
   "source": [
    "!./create_l1b_static_config.sh $source_path $l1b_config_path"
   ]
  }
 ],
 "metadata": {
  "kernelspec": {
   "display_name": "Python 3 (ipykernel)",
   "language": "python",
   "name": "python3"
  },
  "language_info": {
   "codemirror_mode": {
    "name": "ipython",
    "version": 3
   },
   "file_extension": ".py",
   "mimetype": "text/x-python",
   "name": "python",
   "nbconvert_exporter": "python",
   "pygments_lexer": "ipython3",
   "version": "3.10.5"
  }
 },
 "nbformat": 4,
 "nbformat_minor": 5
}
